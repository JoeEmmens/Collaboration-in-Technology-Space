{
 "cells": [
  {
   "cell_type": "code",
   "execution_count": 1,
   "outputs": [
    {
     "data": {
      "text/plain": "'\\nBuild the concordance from the product space and the SITC codes to the technology space with the IPC\\ncodes. This will build the tech space so that I can place the inventors on this space.\\nThe steps are as follows:\\n    1) Define a dictionary \"sitc_proximity_dict\" which returns the proximity between two SITC classifications\\n    in the original product space\\n    2) Find all possible combinations of IPC classifications of length two which can form edges in the\\n    new technology network\\n    3) For each potential edge, find the expected value of that edge in the original product space using\\n    the probability that IPC code x = SITC code y and the proximity of (x, y) in the original product space.\\n    4) The proximity in the original product space is given by the adjacency matrix G so the proximity\\n    between x and y equals G_{x, y}\\n\\n        For example take the following example taken directly from the concordance used,\\n\\n        IPC code    SITC code   Probability\\n        \"A01B\",     \"721.1\",    .938634\\n        \"A01B\",     \"721.9\",    .061366\\n        \"A62C\",     \"598.9\",    1\\n\\n        The edge between (A01B, A62C) in the new technology space is then:\\n\\n        Pr(A01B = 721.1) x Pr(A62C = 598.9) x G_{721.1, 598.9}\\n                                   +\\n        Pr(A01B = 721.9) x Pr(A62C = 598.9) x G_{721.1, 598.9}\\n'"
     },
     "execution_count": 1,
     "metadata": {},
     "output_type": "execute_result"
    }
   ],
   "source": [
    "\"\"\"\n",
    "Build the concordance from the product space and the SITC codes to the technology space with the IPC\n",
    "codes. This will build the tech space so that I can place the inventors on this space.\n",
    "The steps are as follows:\n",
    "    1) Define a dictionary \"sitc_proximity_dict\" which returns the proximity between two SITC classifications\n",
    "    in the original product space\n",
    "    2) Find all possible combinations of IPC classifications of length two which can form edges in the\n",
    "    new technology network\n",
    "    3) For each potential edge, find the expected value of that edge in the original product space using\n",
    "    the probability that IPC code x = SITC code y and the proximity of (x, y) in the original product space.\n",
    "    4) The proximity in the original product space is given by the adjacency matrix G so the proximity\n",
    "    between x and y equals G_{x, y}\n",
    "\n",
    "        For example take the following example taken directly from the concordance used,\n",
    "\n",
    "        IPC code    SITC code   Probability\n",
    "        \"A01B\",     \"721.1\",    .938634\n",
    "        \"A01B\",     \"721.9\",    .061366\n",
    "        \"A62C\",     \"598.9\",    1\n",
    "\n",
    "        The edge between (A01B, A62C) in the new technology space is then:\n",
    "\n",
    "        Pr(A01B = 721.1) x Pr(A62C = 598.9) x G_{721.1, 598.9}\n",
    "                                   +\n",
    "        Pr(A01B = 721.9) x Pr(A62C = 598.9) x G_{721.1, 598.9}\n",
    "\"\"\""
   ],
   "metadata": {
    "collapsed": false,
    "pycharm": {
     "name": "#%%%\n"
    }
   }
  },
  {
   "cell_type": "code",
   "execution_count": 2,
   "outputs": [],
   "source": [
    "import os\n",
    "import pandas as pd\n",
    "from itertools import combinations\n",
    "import numpy as np\n",
    "import networkx as nx\n",
    "import pickle"
   ],
   "metadata": {
    "collapsed": false,
    "pycharm": {
     "name": "#%%\n"
    }
   }
  },
  {
   "cell_type": "code",
   "execution_count": 3,
   "outputs": [],
   "source": [
    "os.chdir(\"D:\\\\IDEA Masters\\\\TFM Data\")"
   ],
   "metadata": {
    "collapsed": false,
    "pycharm": {
     "name": "#%%\n"
    }
   }
  },
  {
   "cell_type": "code",
   "execution_count": 4,
   "outputs": [
    {
     "name": "stderr",
     "output_type": "stream",
     "text": [
      "C:\\ProgramData\\Anaconda3\\envs\\pythonProject\\lib\\site-packages\\IPython\\core\\interactiveshell.py:3155: DtypeWarning: Columns (1) have mixed types.Specify dtype option on import or set low_memory=False.\n",
      "  has_raised = await self.run_ast_nodes(code_ast.body, cell_name,\n"
     ]
    }
   ],
   "source": [
    "inventor = pd.read_csv(\"Inventor Data.csv\")"
   ],
   "metadata": {
    "collapsed": false,
    "pycharm": {
     "name": "#%%\n"
    }
   }
  },
  {
   "cell_type": "code",
   "execution_count": 5,
   "outputs": [],
   "source": [
    "sitc_data = pd.read_csv(\"sitc2_proximities.csv\")"
   ],
   "metadata": {
    "collapsed": false,
    "pycharm": {
     "name": "#%%\n"
    }
   }
  },
  {
   "cell_type": "code",
   "execution_count": 6,
   "outputs": [],
   "source": [
    "os.chdir(\"D:\\\\IDEA Masters\\\\TFM Data\\\\IPC to Trade codes\\\\SITC_Rev2\")\n",
    "ipc_subclass = pd.read_csv(\"ipc4_to_sitc_rev2_4.txt\")"
   ],
   "metadata": {
    "collapsed": false,
    "pycharm": {
     "name": "#%%\n"
    }
   }
  },
  {
   "cell_type": "code",
   "execution_count": 11,
   "outputs": [],
   "source": [
    "\"Set all links g_ii = 1 since we are measuring proximity not distance!\"\n",
    "\n",
    "for i in range(len(sitc_data[\"commoditycode_1\"])):\n",
    "\n",
    "    if sitc_data.loc[i][\"commoditycode_1\"] == sitc_data.loc[i][\"commoditycode_2\"]:\n",
    "\n",
    "        sitc_data.at[i, \"proximity\"] = 1"
   ],
   "metadata": {
    "collapsed": false,
    "pycharm": {
     "name": "#%%\n"
    }
   }
  },
  {
   "cell_type": "code",
   "execution_count": 9,
   "outputs": [
    {
     "data": {
      "text/plain": "True"
     },
     "execution_count": 9,
     "metadata": {},
     "output_type": "execute_result"
    }
   ],
   "source": [
    "sitc_data.loc[i][\"commoditycode_1\"] == sitc_data.loc[i][\"commoditycode_2\"]"
   ],
   "metadata": {
    "collapsed": false,
    "pycharm": {
     "name": "#%%\n"
    }
   }
  },
  {
   "cell_type": "code",
   "execution_count": 13,
   "outputs": [],
   "source": [
    "\"\"\"\n",
    "Clean the codes so that they match across SITC to Zolas\n",
    "\"\"\"\n",
    "ipc_subclass[\"sitc_rev2_4\"] = ipc_subclass[\"sitc_rev2_4\"] * 10\n",
    "ipc_subclass[\"sitc_rev2_4\"] = ipc_subclass[\"sitc_rev2_4\"].astype(np.int64)"
   ],
   "metadata": {
    "collapsed": false,
    "pycharm": {
     "name": "#%%\n"
    }
   }
  },
  {
   "cell_type": "code",
   "execution_count": 14,
   "outputs": [
    {
     "name": "stdout",
     "output_type": "stream",
     "text": [
      "771\n",
      "634\n",
      "721\n",
      "634\n"
     ]
    }
   ],
   "source": [
    "print(len(sitc_data[\"commoditycode_1\"].unique()))\n",
    "print(len(ipc_subclass[\"ipc4\"].unique()))\n",
    "print(len(ipc_subclass[\"sitc_rev2_4\"].unique()))\n",
    "print(len(inventor[\"section_class_sub\"].unique()))"
   ],
   "metadata": {
    "collapsed": false,
    "pycharm": {
     "name": "#%%\n"
    }
   }
  },
  {
   "cell_type": "code",
   "execution_count": 15,
   "outputs": [],
   "source": [
    "# 1)\n",
    "sitc_proximity_dict = dict(zip(zip(sitc_data[\"commoditycode_1\"], sitc_data[\"commoditycode_2\"]),\n",
    "                               sitc_data[\"proximity\"]))\n",
    "\n",
    "#2)\n",
    "edges = list(combinations(sorted(inventor[\"section_class_sub\"].unique()), 2))\n",
    "edges_dict = dict.fromkeys(edges)\n",
    "\n",
    "#3)\n",
    "for edge in edges:\n",
    "\n",
    "\n",
    "    source, target = edge\n",
    "\n",
    "    source_sitc = ipc_subclass[ipc_subclass[\"ipc4\"] == source]\n",
    "    target_sitc = ipc_subclass[ipc_subclass[\"ipc4\"] == target]\n",
    "\n",
    "    edge_sum = 0\n",
    "\n",
    "    for source_match in source_sitc[\"sitc_rev2_4\"].index:\n",
    "\n",
    "        pr_source = source_sitc.loc[source_match][\"probability_weight\"]\n",
    "        source_sitc_code = source_sitc.loc[source_match][\"sitc_rev2_4\"]\n",
    "\n",
    "        for target_match in target_sitc[\"sitc_rev2_4\"].index:\n",
    "\n",
    "            pr_target = target_sitc.loc[target_match][\"probability_weight\"]\n",
    "            target_sitc_code = target_sitc.loc[target_match][\"sitc_rev2_4\"]\n",
    "\n",
    "\n",
    "            if (source_sitc_code, target_sitc_code) in sitc_proximity_dict.keys():\n",
    "\n",
    "                product_space_proximity = sitc_proximity_dict[source_sitc_code, target_sitc_code]\n",
    "\n",
    "                edge_sum = edge_sum + pr_source * pr_target * product_space_proximity\n",
    "\n",
    "\n",
    "        edges_dict[edge] = edge_sum"
   ],
   "metadata": {
    "collapsed": false,
    "pycharm": {
     "name": "#%%\n"
    }
   }
  },
  {
   "cell_type": "code",
   "execution_count": null,
   "outputs": [],
   "source": [
    "\"\"\"\n",
    "Check the number of nodes... have we lost any areas?\n",
    "\"\"\""
   ],
   "metadata": {
    "collapsed": false,
    "pycharm": {
     "name": "#%%\n"
    }
   }
  },
  {
   "cell_type": "code",
   "execution_count": 16,
   "outputs": [
    {
     "data": {
      "text/plain": "(0.18248070594201943, 0.2110893354215286)"
     },
     "execution_count": 16,
     "metadata": {},
     "output_type": "execute_result"
    }
   ],
   "source": [
    "np.mean(sitc_data.proximity), np.mean(list(edges_dict.values()))"
   ],
   "metadata": {
    "collapsed": false,
    "pycharm": {
     "name": "#%%\n"
    }
   }
  },
  {
   "cell_type": "code",
   "execution_count": 17,
   "outputs": [],
   "source": [
    "def check_symmetric(a, rtol=1e-05, atol=1e-08):\n",
    "    \"\"\"\n",
    "    A simple function to check if the adjacency matrix is symmetric\n",
    "    \"\"\"\n",
    "    return np.allclose(a, a.T, rtol=rtol, atol=atol)"
   ],
   "metadata": {
    "collapsed": false,
    "pycharm": {
     "name": "#%%\n"
    }
   }
  },
  {
   "cell_type": "code",
   "execution_count": 18,
   "outputs": [],
   "source": [
    "for k, v in edges_dict.items():\n",
    "        edges_dict[k] = round(v, 3)\n",
    "\n",
    "graph = nx.Graph()\n",
    "\n",
    "graph.add_nodes_from(inventor[\"section_class_sub\"].unique())\n",
    "graph.add_edges_from(list(edges_dict.keys()))\n",
    "\n",
    "for edge in list(edges_dict.keys()):\n",
    "\n",
    "    graph.edges[edge][\"weight\"] = edges_dict[edge]\n",
    "\n",
    "nx.write_gml(graph, \"Technology Network from PS.gml\")"
   ],
   "metadata": {
    "collapsed": false,
    "pycharm": {
     "name": "#%%\n"
    }
   }
  },
  {
   "cell_type": "code",
   "execution_count": 19,
   "outputs": [],
   "source": [
    "\"\"\"\n",
    "Clean the product space as to present a visual representation. Keep only the top 5 \n",
    "connections for each, this results in a now directed network.. this is only for visual purposes.\n",
    "\"\"\"\n",
    "\n",
    "graph = nx.read_gml(\"Technology Network from PS.gml\")"
   ],
   "metadata": {
    "collapsed": false,
    "pycharm": {
     "name": "#%%\n"
    }
   }
  },
  {
   "cell_type": "code",
   "execution_count": 25,
   "outputs": [],
   "source": [
    "adj = nx.to_numpy_array(graph, nodelist=sorted(graph.nodes()))"
   ],
   "metadata": {
    "collapsed": false,
    "pycharm": {
     "name": "#%%\n"
    }
   }
  },
  {
   "cell_type": "code",
   "execution_count": 21,
   "outputs": [],
   "source": [
    "for i in range(len(graph.nodes())):\n",
    "\n",
    "    sum_row = np.sum(adj[i, :])\n",
    "\n",
    "    for j in range(len(graph.nodes())):\n",
    "\n",
    "        adj[i, j] = adj[i, j] / sum_row"
   ],
   "metadata": {
    "collapsed": false,
    "pycharm": {
     "name": "#%%\n"
    }
   }
  },
  {
   "cell_type": "code",
   "execution_count": 22,
   "outputs": [
    {
     "data": {
      "text/plain": "array([[0.        , 0.00535571, 0.00337293, ..., 0.        , 0.        ,\n        0.        ],\n       [0.00534925, 0.        , 0.00336333, ..., 0.        , 0.        ,\n        0.        ],\n       [0.00346458, 0.00345889, 0.        , ..., 0.        , 0.        ,\n        0.        ],\n       ...,\n       [0.        , 0.        , 0.        , ..., 0.        , 0.        ,\n        0.        ],\n       [0.        , 0.        , 0.        , ..., 0.        , 0.        ,\n        0.        ],\n       [0.        , 0.        , 0.        , ..., 0.        , 0.        ,\n        0.        ]])"
     },
     "execution_count": 22,
     "metadata": {},
     "output_type": "execute_result"
    }
   ],
   "source": [
    "n = len(graph.nodes)\n",
    "adj_normalised = np.zeros((n, n))\n",
    "for i in range(n):\n",
    "\n",
    "    a = adj[i, :]\n",
    "    ind = np.argpartition(a, -5)[-5:]\n",
    "    adj_normalised[i, ind] = a[ind]\n",
    "\n",
    "adj_normalised"
   ],
   "metadata": {
    "collapsed": false,
    "pycharm": {
     "name": "#%%\n"
    }
   }
  },
  {
   "cell_type": "code",
   "execution_count": 23,
   "outputs": [],
   "source": [
    "graph_normalised = nx.from_numpy_array(adj_normalised)\n",
    "node_labels = dict(zip(np.arange(n), sorted(graph.nodes())))\n",
    "nx.relabel_nodes(graph_normalised, node_labels, copy=False)\n",
    "\n",
    "nx.write_gml(graph_normalised, \"Technology Network from PS (top 5).gml\")"
   ],
   "metadata": {
    "collapsed": false,
    "pycharm": {
     "name": "#%%\n"
    }
   }
  },
  {
   "cell_type": "code",
   "execution_count": 24,
   "outputs": [
    {
     "data": {
      "text/plain": "0.0015772870662460572"
     },
     "execution_count": 24,
     "metadata": {},
     "output_type": "execute_result"
    }
   ],
   "source": [
    "np.mean(adj)\n",
    "\n"
   ],
   "metadata": {
    "collapsed": false,
    "pycharm": {
     "name": "#%%\n"
    }
   }
  },
  {
   "cell_type": "code",
   "execution_count": null,
   "outputs": [],
   "source": [],
   "metadata": {
    "collapsed": false,
    "pycharm": {
     "name": "#%%\n"
    }
   }
  }
 ],
 "metadata": {
  "kernelspec": {
   "display_name": "Python 3",
   "language": "python",
   "name": "python3"
  },
  "language_info": {
   "codemirror_mode": {
    "name": "ipython",
    "version": 2
   },
   "file_extension": ".py",
   "mimetype": "text/x-python",
   "name": "python",
   "nbconvert_exporter": "python",
   "pygments_lexer": "ipython2",
   "version": "2.7.6"
  }
 },
 "nbformat": 4,
 "nbformat_minor": 0
}