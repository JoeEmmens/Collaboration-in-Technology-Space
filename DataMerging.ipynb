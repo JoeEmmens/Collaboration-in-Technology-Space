{
 "cells": [
  {
   "cell_type": "code",
   "execution_count": 1,
   "metadata": {
    "collapsed": true
   },
   "outputs": [
    {
     "data": {
      "text/plain": "'\\nBuilding the patent data set by merging files from the USPTO.\\n\\nAuthor: Joe Emmens\\n'"
     },
     "execution_count": 1,
     "metadata": {},
     "output_type": "execute_result"
    }
   ],
   "source": [
    "\"\"\"\n",
    "Building the patent data set by merging files from the USPTO.\n",
    "\n",
    "Author: Joe Emmens\n",
    "\n",
    "Final output is a dataset which records at the\n",
    "    patent x inventor x assignee x IPC classification code\n",
    "and records the following variables:\n",
    "    1) num inventors\n",
    "    2) citations\n",
    "    3) year\n",
    "\"\"\""
   ]
  },
  {
   "cell_type": "code",
   "execution_count": 2,
   "outputs": [],
   "source": [
    "import pandas as pd\n",
    "import os\n",
    "import numpy as np\n",
    "import pickle\n",
    "from datetime import datetime"
   ],
   "metadata": {
    "collapsed": false,
    "pycharm": {
     "name": "#%%\n"
    }
   }
  },
  {
   "cell_type": "code",
   "execution_count": 3,
   "outputs": [],
   "source": [
    "os.chdir(\"D:\\\\IDEA Masters\\\\TFM Data\\\\IPC to Trade codes\\\\SITC_Rev2\")"
   ],
   "metadata": {
    "collapsed": false,
    "pycharm": {
     "name": "#%%\n"
    }
   }
  },
  {
   "cell_type": "code",
   "execution_count": 5,
   "outputs": [],
   "source": [
    "\"\"\"$$$$$$$$$$$$$$$$$$$$$$$$$$$$$$$$$$$$$$$$$$$$$$$$$$$$$$$$$$$$$$$$$$$$$$$$$$$$$$$$$$$$$$$$$$$$$$$$$$$$$$$$\n",
    "\n",
    "                                        Build the data set by merging the data from\n",
    "                                                    USPTO downloads.\n",
    "\n",
    "$$$$$$$$$$$$$$$$$$$$$$$$$$$$$$$$$$$$$$$$$$$$$$$$$$$$$$$$$$$$$$$$$$$$$$$$$$$$$$$$$$$$$$$$$$$$$$$$$$$$$$$$\"\"\"\n",
    "\n",
    "\"\"\"\n",
    "Load the inventor data which records one row for each inventor and their location on each patent.\n",
    "Inventors location can vary since they live in different places and work remotely.\n",
    "\"\"\"\n",
    "inventor = pd.read_csv(\"patent_inventor.tsv\", sep=\"\\t\", usecols=[\"patent_id\", \"inventor_id\", \"location_id\"],\n",
    "                       dtype={\"patent_id\":\"str\", \"inventor_id\":\"str\", \"location_id\":\"str\"})"
   ],
   "metadata": {
    "collapsed": false,
    "pycharm": {
     "name": "#%%\n"
    }
   }
  },
  {
   "cell_type": "code",
   "execution_count": 7,
   "outputs": [
    {
     "data": {
      "text/plain": "6746031"
     },
     "execution_count": 7,
     "metadata": {},
     "output_type": "execute_result"
    }
   ],
   "source": [
    "\"\"\"\n",
    "Load the same data but for the assignees, normally firms.\n",
    "\"\"\"\n",
    "assignee = pd.read_csv(\"patent_assignee.tsv\", sep=\"\\t\", usecols=[\"patent_id\", \"assignee_id\", \"location_id\"],\n",
    "                       dtype={\"patent_id\":\"str\", \"assignee_id\":\"str\", \"location_id\":\"str\"})"
   ],
   "metadata": {
    "collapsed": false,
    "pycharm": {
     "name": "#%%\n"
    }
   }
  },
  {
   "cell_type": "code",
   "execution_count": 23,
   "outputs": [],
   "source": [
    "inventor = inventor.merge(assignee, how=\"inner\", on=\"patent_id\")\n",
    "\n",
    "del assignee"
   ],
   "metadata": {
    "collapsed": false,
    "pycharm": {
     "name": "#%%\n"
    }
   }
  },
  {
   "cell_type": "code",
   "execution_count": 27,
   "outputs": [
    {
     "name": "stdout",
     "output_type": "stream",
     "text": [
      "3219606\n",
      "6745178\n"
     ]
    },
    {
     "data": {
      "text/plain": "439937"
     },
     "execution_count": 27,
     "metadata": {},
     "output_type": "execute_result"
    }
   ],
   "source": [
    "print(len(inventor[\"inventor_id\"].unique()))\n",
    "print(len(inventor[\"patent_id\"].unique()))\n",
    "len(inventor[\"assignee_id\"].unique())"
   ],
   "metadata": {
    "collapsed": false,
    "pycharm": {
     "name": "#%%\n"
    }
   }
  },
  {
   "cell_type": "code",
   "execution_count": 26,
   "outputs": [
    {
     "data": {
      "text/plain": "7114848"
     },
     "execution_count": 26,
     "metadata": {},
     "output_type": "execute_result"
    }
   ],
   "source": [
    "\"\"\"\n",
    "Load the classification data. Some patents are categorised under numerous tech\n",
    "classes. The mean number is 1.45.\n",
    "\"\"\"\n",
    "ipc = pd.read_csv(\"ipcr1.tsv\", sep=\"\\t\", low_memory=False, usecols=[\"patent_id\", \"section\", \"ipc_class\", \"subclass\"],\n",
    "                  dtype={\"patent_id\":\"str\", \"section\":\"str\", \"ipc_class\":\"str\", \"sub_class\":\"str\"})\n",
    "ipc = ipc.drop_duplicates()\n",
    "len(ipc[\"patent_id\"].unique())"
   ],
   "metadata": {
    "collapsed": false,
    "pycharm": {
     "name": "#%%\n"
    }
   }
  },
  {
   "cell_type": "code",
   "execution_count": 30,
   "outputs": [],
   "source": [
    "check = ipc.groupby(\"patent_id\").count()"
   ],
   "metadata": {
    "collapsed": false,
    "pycharm": {
     "name": "#%%\n"
    }
   }
  },
  {
   "cell_type": "code",
   "execution_count": 37,
   "outputs": [
    {
     "name": "stdout",
     "output_type": "stream",
     "text": [
      "38\n",
      "1.4566694889335654\n",
      "1.0\n"
     ]
    }
   ],
   "source": [
    "print(check.section.max())\n",
    "print(check.section.mean())\n",
    "print(check.section.median())"
   ],
   "metadata": {
    "collapsed": false,
    "pycharm": {
     "name": "#%%\n"
    }
   }
  },
  {
   "cell_type": "code",
   "execution_count": 38,
   "outputs": [
    {
     "data": {
      "text/plain": "2054135"
     },
     "execution_count": 38,
     "metadata": {},
     "output_type": "execute_result"
    }
   ],
   "source": [
    "idx = check.index[check[\"section\"] > 1]\n",
    "len(idx)"
   ],
   "metadata": {
    "collapsed": false,
    "pycharm": {
     "name": "#%%\n"
    }
   }
  },
  {
   "cell_type": "code",
   "execution_count": 39,
   "outputs": [
    {
     "name": "stdout",
     "output_type": "stream",
     "text": [
      "3140504\n",
      "6353519\n"
     ]
    },
    {
     "data": {
      "text/plain": "412816"
     },
     "execution_count": 39,
     "metadata": {},
     "output_type": "execute_result"
    }
   ],
   "source": [
    "inventor = inventor.merge(ipc, how=\"inner\", on=\"patent_id\")\n",
    "\n",
    "del ipc\n",
    "\n",
    "print(len(inventor[\"inventor_id\"].unique()))\n",
    "print(len(inventor[\"patent_id\"].unique()))\n",
    "len(inventor[\"assignee_id\"].unique())"
   ],
   "metadata": {
    "collapsed": false,
    "pycharm": {
     "name": "#%%\n"
    }
   }
  },
  {
   "cell_type": "code",
   "execution_count": 40,
   "outputs": [],
   "source": [
    "\"\"\"\n",
    "Load the general patent data to get the year of award. There are numerous types of patents.\n",
    "\"\"\"\n",
    "parse_dates = [\"date\"]\n",
    "patent = pd.read_csv(\"patent.tsv\", sep=\"\\t\", usecols=[\"number\", \"date\", \"type\"], parse_dates=parse_dates,\n",
    "                     dtype={\"number\":\"str\", \"date\":\"str\", \"type\":\"str\"})"
   ],
   "metadata": {
    "collapsed": false,
    "pycharm": {
     "name": "#%%\n"
    }
   }
  },
  {
   "cell_type": "code",
   "execution_count": 41,
   "outputs": [
    {
     "name": "stdout",
     "output_type": "stream",
     "text": [
      "7627229\n",
      "6913035\n"
     ]
    }
   ],
   "source": [
    "print(len(patent[\"number\"].unique()))\n",
    "print(len(patent[patent[\"type\"] == \"utility\"]))"
   ],
   "metadata": {
    "collapsed": false,
    "pycharm": {
     "name": "#%%\n"
    }
   }
  },
  {
   "cell_type": "code",
   "execution_count": 42,
   "outputs": [],
   "source": [
    "patent = patent.loc[patent[\"type\"] == \"utility\"]\n",
    "patent = patent.rename(columns={\"number\":\"patent_id\"})"
   ],
   "metadata": {
    "collapsed": false,
    "pycharm": {
     "name": "#%%\n"
    }
   }
  },
  {
   "cell_type": "code",
   "execution_count": 44,
   "outputs": [
    {
     "name": "stdout",
     "output_type": "stream",
     "text": [
      "3113294\n",
      "6209284\n"
     ]
    },
    {
     "data": {
      "text/plain": "402407"
     },
     "execution_count": 44,
     "metadata": {},
     "output_type": "execute_result"
    }
   ],
   "source": [
    "inventor = inventor.merge(patent, how=\"inner\", on=\"patent_id\")\n",
    "\n",
    "del patent\n",
    "print(len(inventor[\"inventor_id\"].unique()))\n",
    "print(len(inventor[\"patent_id\"].unique()))\n",
    "len(inventor[\"assignee_id\"].unique())"
   ],
   "metadata": {
    "collapsed": false,
    "pycharm": {
     "name": "#%%\n"
    }
   }
  },
  {
   "cell_type": "code",
   "execution_count": 47,
   "outputs": [],
   "source": [
    "\"\"\"\n",
    "Leave the new word combinations for later as a robustness check if I think appropriate.\n",
    "\n",
    "text_measures = pd.read_csv(\"patent_text_measures.txt\", usecols=[\"patent\", \"new_word_comb\", \"new_word_comb_reuse\"])\n",
    "text_measures[\"patent\"] = text_measures[\"patent\"].astype(\"str\")\n",
    "text_measures = text_measures.rename(columns={\"patent\":\"patent_id\"})\n",
    "\n",
    "print(len(text_measures[\"patent_id\"].unique()))\n",
    "\n",
    "\n",
    "inventor = inventor.merge(text_measures, how=\"inner\", on=\"patent_id\")\n",
    "del text_measures\n",
    "\"\"\""
   ],
   "metadata": {
    "collapsed": false,
    "pycharm": {
     "name": "#%%\n"
    }
   }
  },
  {
   "cell_type": "code",
   "execution_count": 49,
   "outputs": [
    {
     "name": "stdout",
     "output_type": "stream",
     "text": [
      "3113294\n",
      "6209284\n"
     ]
    },
    {
     "data": {
      "text/plain": "402407"
     },
     "execution_count": 49,
     "metadata": {},
     "output_type": "execute_result"
    }
   ],
   "source": [
    "\"\"\"\n",
    "The final stats after merging the USPTO datasets are:\n",
    "\"\"\"\n",
    "print(len(inventor[\"inventor_id\"].unique()))\n",
    "print(len(inventor[\"patent_id\"].unique()))\n",
    "len(inventor[\"assignee_id\"].unique())"
   ],
   "metadata": {
    "collapsed": false,
    "pycharm": {
     "name": "#%%\n"
    }
   }
  },
  {
   "cell_type": "code",
   "execution_count": 50,
   "outputs": [],
   "source": [
    "inventor[\"ipc_class\"] = inventor[\"ipc_class\"].astype(\"str\")\n",
    "inventor = inventor.drop(columns=[\"type\"])"
   ],
   "metadata": {
    "collapsed": false,
    "pycharm": {
     "name": "#%%\n"
    }
   }
  },
  {
   "cell_type": "code",
   "execution_count": 4,
   "outputs": [
    {
     "name": "stderr",
     "output_type": "stream",
     "text": [
      "C:\\ProgramData\\Anaconda3\\envs\\pythonProject\\lib\\site-packages\\IPython\\core\\interactiveshell.py:3155: DtypeWarning: Columns (1,7) have mixed types.Specify dtype option on import or set low_memory=False.\n",
      "  has_raised = await self.run_ast_nodes(code_ast.body, cell_name,\n"
     ]
    }
   ],
   "source": [
    "\"\"\"$$$$$$$$$$$$$$$$$$$$$$$$$$$$$$$$$$$$$$$$$$$$$$$$$$$$$$$$$$$$$$$$$$$$$$$$$$$$$$$$$$$$$$$$$$$$$$$$$$$$$$$$\n",
    "\n",
    "                                        Clean the data and add in variables of interest.\n",
    "            1) The number of citations 2) Keep only the IPC codes which are currently in use\n",
    "\n",
    "$$$$$$$$$$$$$$$$$$$$$$$$$$$$$$$$$$$$$$$$$$$$$$$$$$$$$$$$$$$$$$$$$$$$$$$$$$$$$$$$$$$$$$$$$$$$$$$$$$$$$$$$\"\"\"\n",
    "\n",
    "\n",
    "\n",
    "\"\"\"\n",
    "Count the number of citations that each patent receives.\n",
    "Be careful to keep the patents that receive 0 citations.\n",
    "\"\"\"\n",
    "inventor = pd.read_csv(\"Inventor Data.csv\")"
   ],
   "metadata": {
    "collapsed": false,
    "pycharm": {
     "name": "#%%\n"
    }
   }
  },
  {
   "cell_type": "code",
   "execution_count": 5,
   "outputs": [
    {
     "name": "stdout",
     "output_type": "stream",
     "text": [
      "3113294\n",
      "6209316\n"
     ]
    },
    {
     "data": {
      "text/plain": "402407"
     },
     "execution_count": 5,
     "metadata": {},
     "output_type": "execute_result"
    }
   ],
   "source": [
    "print(len(inventor[\"inventor_id\"].unique()))\n",
    "print(len(inventor[\"patent_id\"].unique()))\n",
    "len(inventor[\"assignee_id\"].unique())"
   ],
   "metadata": {
    "collapsed": false,
    "pycharm": {
     "name": "#%%\n"
    }
   }
  },
  {
   "cell_type": "code",
   "execution_count": 5,
   "outputs": [],
   "source": [
    "patents = pd.read_csv(\"uspatentcitation.tsv\", sep=\"\\t\", usecols=[\"citation_id\"],dtype={\"citation_id\":\"str\"})\n",
    "patents[\"count\"] = 1\n",
    "check = patents.groupby(\"citation_id\").count()\n",
    "\n",
    "del patents\n",
    "check = check.reset_index()\n",
    "\n",
    "citations = dict(zip(check[\"citation_id\"], check[\"count\"]))\n",
    "pickle.dump(citations, open(\"citations.p\", \"wb\"))\n",
    "del check"
   ],
   "metadata": {
    "collapsed": false,
    "pycharm": {
     "name": "#%%\n"
    }
   }
  },
  {
   "cell_type": "code",
   "execution_count": 4,
   "outputs": [
    {
     "name": "stderr",
     "output_type": "stream",
     "text": [
      "C:\\ProgramData\\Anaconda3\\envs\\pythonProject\\lib\\site-packages\\IPython\\core\\interactiveshell.py:3155: DtypeWarning: Columns (1,7) have mixed types.Specify dtype option on import or set low_memory=False.\n",
      "  has_raised = await self.run_ast_nodes(code_ast.body, cell_name,\n"
     ]
    }
   ],
   "source": [
    "inventor = pd.read_csv(\"Inventor Data.csv\")\n",
    "citations = pickle.load(open(\"citations.p\", \"rb\"))\n",
    "\n",
    "inventor[\"patent_id\"] = inventor[\"patent_id\"].astype(\"str\")\n",
    "inventor[\"citations\"] = inventor[\"patent_id\"].map(citations)\n",
    "\n",
    "inventor[\"citations\"] = inventor[\"citations\"].fillna(0)\n",
    "inventor.to_csv(\"Inventor Data.csv\", index_label=False)"
   ],
   "metadata": {
    "collapsed": false,
    "pycharm": {
     "name": "#%%\n"
    }
   }
  },
  {
   "cell_type": "code",
   "execution_count": 5,
   "outputs": [
    {
     "name": "stdout",
     "output_type": "stream",
     "text": [
      "3113294\n",
      "6209284\n"
     ]
    },
    {
     "data": {
      "text/plain": "402407"
     },
     "execution_count": 5,
     "metadata": {},
     "output_type": "execute_result"
    }
   ],
   "source": [
    "\"\"\"\n",
    "Keep only the current IPC sections and classes.\n",
    "    1) Drop all patents with other classifications. They aren't many...\n",
    "    2) Ensure all single digit classes have a leading zero\n",
    "\"\"\"\n",
    "\n",
    "print(len(inventor[\"inventor_id\"].unique()))\n",
    "print(len(inventor[\"patent_id\"].unique()))\n",
    "len(inventor[\"assignee_id\"].unique())\n"
   ],
   "metadata": {
    "collapsed": false,
    "pycharm": {
     "name": "#%%\n"
    }
   }
  },
  {
   "cell_type": "code",
   "execution_count": 6,
   "outputs": [
    {
     "name": "stdout",
     "output_type": "stream",
     "text": [
      "3113088\n",
      "6208546\n"
     ]
    },
    {
     "data": {
      "text/plain": "402364"
     },
     "execution_count": 6,
     "metadata": {},
     "output_type": "execute_result"
    }
   ],
   "source": [
    "inventor = inventor.loc[inventor[\"section\"].isin([\"A\", \"B\", \"C\", \"D\", \"E\", \"F\", \"G\", \"H\"])]\n",
    "print(len(inventor[\"inventor_id\"].unique()))\n",
    "print(len(inventor[\"patent_id\"].unique()))\n",
    "len(inventor[\"assignee_id\"].unique())"
   ],
   "metadata": {
    "collapsed": false,
    "pycharm": {
     "name": "#%%\n"
    }
   }
  },
  {
   "cell_type": "code",
   "execution_count": 8,
   "outputs": [],
   "source": [
    "inventor[\"ipc_class\"] = inventor[\"ipc_class\"].astype(\"str\")\n",
    "inventor[\"section_class\"] = inventor[\"section\"] + inventor[\"ipc_class\"]\n",
    "\n",
    "\n",
    "class_dict = {\n",
    "    \"A1\":\"A01\",\"B1\":\"B01\",\"B2\":\"B02\",\"B3\":\"B03\",\"B4\":\"B04\",\"B5\":\"B05\",\"B6\":\"B06\",\"B7\":\"B07\",\n",
    "    \"B8\":\"B08\",\"B9\":\"B09\",\"C1\":\"C01\",\"C2\":\"C02\",\"C3\":\"C03\",\"C4\":\"C04\",\n",
    "    \"C5\":\"C05\",\"C6\":\"C06\",\"C7\":\"C07\",\"C8\":\"C08\",\"C9\":\"C09\",\"D1\":\"D01\", \"D2\":\"D02\",\"D3\":\"D03\",\"D4\":\"D04\",\n",
    "    \"D5\":\"D05\",\"D6\":\"D06\",\"D7\":\"D07\",\"E1\":\"E01\",\"E2\":\"E02\",\"E3\":\"E03\",\n",
    "    \"E4\":\"E04\",\"E5\":\"E05\",\"E6\":\"E06\",\"F1\":\"F01\",\"F2\":\"F02\",\"F3\":\"F03\",\"F4\":\"F04\",\n",
    "    \"G1\":\"G01\", \"G2\":\"G02\",\"G3\":\"G03\",\"G4\":\"G04\",\"G5\":\"G05\",\"G6\":\"G06\",\"G7\":\"G07\",\n",
    "    \"G8\":\"G08\",\"G9\":\"G09\",\"H1\":\"H01\",\"H2\":\"H02\",\"H3\":\"H03\",\"H4\":\"H04\",\"H5\":\"H05\",\n",
    "}\n",
    "\n",
    "inventor[\"section_class\"] = inventor[\"section_class\"].replace(class_dict)\n",
    "\n",
    "inventor[\"section_class_sub\"] = inventor[\"section_class\"] + inventor[\"subclass\"]\n",
    "\n",
    "inventor = inventor.drop(columns=[\"ipc_class\", \"subclass\"])"
   ],
   "metadata": {
    "collapsed": false,
    "pycharm": {
     "name": "#%%\n"
    }
   }
  },
  {
   "cell_type": "code",
   "execution_count": 14,
   "outputs": [],
   "source": [
    "check = inventor[\"section_class\"].value_counts()"
   ],
   "metadata": {
    "collapsed": false,
    "pycharm": {
     "name": "#%%\n"
    }
   }
  },
  {
   "cell_type": "code",
   "execution_count": 15,
   "outputs": [],
   "source": [
    "inventor.to_csv(\"Inventor Data.csv\", index_label=False)"
   ],
   "metadata": {
    "collapsed": false,
    "pycharm": {
     "name": "#%%\n"
    }
   }
  },
  {
   "cell_type": "code",
   "execution_count": 17,
   "outputs": [
    {
     "name": "stdout",
     "output_type": "stream",
     "text": [
      "3108197\n",
      "6190712\n"
     ]
    },
    {
     "data": {
      "text/plain": "401411"
     },
     "execution_count": 17,
     "metadata": {},
     "output_type": "execute_result"
    }
   ],
   "source": [
    "\"\"\"\n",
    "Keep only the classifications that are on the product space using the official IPC codes.\n",
    "\"\"\"\n",
    "os.chdir(\"D:\\\\IDEA Masters\\\\TFM Data\\\\IPC to Trade codes\\\\SITC_Rev2\")\n",
    "ipc_subclass = pd.read_csv(\"ipc4_to_sitc_rev2_4.txt\")\n",
    "official_codes_sub = list(ipc_subclass.ipc4.unique())\n",
    "\n",
    "inventor = inventor[inventor[\"section_class_sub\"].isin(official_codes_sub)]\n",
    "\n",
    "print(len(inventor[\"inventor_id\"].unique()))\n",
    "print(len(inventor[\"patent_id\"].unique()))\n",
    "len(inventor[\"assignee_id\"].unique())"
   ],
   "metadata": {
    "collapsed": false,
    "pycharm": {
     "name": "#%%\n"
    }
   }
  },
  {
   "cell_type": "code",
   "execution_count": 22,
   "outputs": [],
   "source": [
    "\"\"\"\n",
    "Strip the date so only displays the year and drop the date\n",
    "\"\"\"\n",
    "inventor[\"year\"] = inventor[\"date\"].apply(lambda x: datetime.strptime(x, '%Y-%m-%d').year)\n",
    "\n",
    "inventor = inventor.drop(columns=\"date\")"
   ],
   "metadata": {
    "collapsed": false,
    "pycharm": {
     "name": "#%%\n"
    }
   }
  },
  {
   "cell_type": "code",
   "execution_count": 30,
   "outputs": [],
   "source": [
    "\"\"\"\n",
    "Check whether the number of IPC codes match. They are very very close.\n",
    "\"\"\"\n",
    "check2 = inventor[\"section_class\"].value_counts()\n",
    "check1 = inventor[\"section_class_sub\"].value_counts()"
   ],
   "metadata": {
    "collapsed": false,
    "pycharm": {
     "name": "#%%\n"
    }
   }
  },
  {
   "cell_type": "code",
   "execution_count": 32,
   "outputs": [
    {
     "name": "stdout",
     "output_type": "stream",
     "text": [
      "634\n",
      "121\n"
     ]
    }
   ],
   "source": [
    "print(len(check1.index))\n",
    "print(len(check2.index))"
   ],
   "metadata": {
    "collapsed": false,
    "pycharm": {
     "name": "#%%\n"
    }
   }
  },
  {
   "cell_type": "code",
   "execution_count": 34,
   "outputs": [],
   "source": [
    "\n",
    "no_inv = inventor.groupby([\"patent_id\", \"section_class_sub\"])[\"inventor_id\"].count()\n",
    "no_inv = no_inv.reset_index().drop(columns=\"section_class_sub\")\n",
    "no_inv = no_inv.drop_duplicates()\n",
    "no_inv = no_inv.rename(columns={\"inventor_id\":\"no_invs\"})\n",
    "no_inv_dict = dict(zip(no_inv.patent_id, no_inv.no_invs))\n",
    "inventor[\"no_inventors\"] = inventor.patent_id.map(no_inv_dict)"
   ],
   "metadata": {
    "collapsed": false,
    "pycharm": {
     "name": "#%%\n"
    }
   }
  },
  {
   "cell_type": "code",
   "execution_count": 9,
   "outputs": [
    {
     "name": "stdout",
     "output_type": "stream",
     "text": [
      "4.999169463388831\n",
      "374\n"
     ]
    }
   ],
   "source": [
    "print(np.mean(inventor[\"no_inventors\"]))\n",
    "print(np.max(inventor[\"no_inventors\"]))"
   ],
   "metadata": {
    "collapsed": false,
    "pycharm": {
     "name": "#%%\n"
    }
   }
  },
  {
   "cell_type": "code",
   "execution_count": 8,
   "outputs": [],
   "source": [
    "inventor.to_csv(\"Inventor Data.csv\", index_label=False)"
   ],
   "metadata": {
    "collapsed": false,
    "pycharm": {
     "name": "#%%\n"
    }
   }
  },
  {
   "cell_type": "code",
   "execution_count": null,
   "outputs": [],
   "source": [
    "\"\"\"\n",
    "Save the final dataset\n",
    "\"\"\"\n",
    "inventor.to_csv(\"Inventor Data.csv\", index_label=False)\n",
    "\n",
    "\n"
   ],
   "metadata": {
    "collapsed": false,
    "pycharm": {
     "name": "#%%\n"
    }
   }
  }
 ],
 "metadata": {
  "kernelspec": {
   "display_name": "Python 3",
   "language": "python",
   "name": "python3"
  },
  "language_info": {
   "codemirror_mode": {
    "name": "ipython",
    "version": 2
   },
   "file_extension": ".py",
   "mimetype": "text/x-python",
   "name": "python",
   "nbconvert_exporter": "python",
   "pygments_lexer": "ipython2",
   "version": "2.7.6"
  }
 },
 "nbformat": 4,
 "nbformat_minor": 0
}