{
 "cells": [
  {
   "cell_type": "code",
   "execution_count": 1,
   "metadata": {
    "collapsed": true
   },
   "outputs": [
    {
     "data": {
      "text/plain": "'\\nThe answer to the first of three why questions!\\nWhy can inventors not achieve the optimal distance?\\n'"
     },
     "execution_count": 1,
     "metadata": {},
     "output_type": "execute_result"
    }
   ],
   "source": [
    "\"\"\"\n",
    "The answer to the first of three why questions!\n",
    "Why can inventors not achieve the optimal distance?\n",
    "\"\"\""
   ]
  },
  {
   "cell_type": "code",
   "execution_count": 2,
   "outputs": [],
   "source": [
    "import os\n",
    "import pandas as pd\n",
    "import numpy as np\n",
    "import networkx as nx\n",
    "from itertools import combinations\n",
    "import matplotlib.pyplot as plt\n",
    "import seaborn as sns\n",
    "from scipy import stats\n",
    "import warnings\n",
    "from numba import njit\n",
    "import pickle\n",
    "from operator import itemgetter"
   ],
   "metadata": {
    "collapsed": false,
    "pycharm": {
     "name": "#%%\n"
    }
   }
  },
  {
   "cell_type": "code",
   "execution_count": 3,
   "outputs": [],
   "source": [
    "os.chdir(\"D:\\\\IDEA Masters\\\\TFM data\\\\Paper Data\")"
   ],
   "metadata": {
    "collapsed": false,
    "pycharm": {
     "name": "#%%\n"
    }
   }
  },
  {
   "cell_type": "code",
   "execution_count": 4,
   "outputs": [],
   "source": [
    "@njit(parallel=True)\n",
    "def MeasureDist(inv1_skills, inv2_skills, adj_tech):\n",
    "\n",
    "    g = np.outer(np.transpose(inv1_skills), inv2_skills) * adj_tech\n",
    "    g = np.where(g == 0, np.nan, g)\n",
    "    average = np.nanmean(g)\n",
    "\n",
    "    return  average"
   ],
   "metadata": {
    "collapsed": false,
    "pycharm": {
     "name": "#%%\n"
    }
   }
  },
  {
   "cell_type": "code",
   "execution_count": null,
   "outputs": [],
   "source": [
    "graph = nx.read_gml(\"Technology Network from PS.gml\")\n",
    "adj_tech = nx.to_numpy_array(graph, nodelist=graph.nodes)\n",
    "np.fill_diagonal(adj_tech, 1)"
   ],
   "metadata": {
    "collapsed": false,
    "pycharm": {
     "name": "#%%\n"
    }
   }
  },
  {
   "cell_type": "code",
   "execution_count": 5,
   "outputs": [],
   "source": [
    "data = pd.read_csv(\"Collaborations 2003 to 2018.csv\")"
   ],
   "metadata": {
    "collapsed": false,
    "pycharm": {
     "name": "#%%\n"
    }
   }
  },
  {
   "cell_type": "code",
   "execution_count": 6,
   "outputs": [
    {
     "data": {
      "text/plain": "1871197"
     },
     "execution_count": 6,
     "metadata": {},
     "output_type": "execute_result"
    }
   ],
   "source": [
    "len(data[\"inventor_id\"].unique())"
   ],
   "metadata": {
    "collapsed": false,
    "pycharm": {
     "name": "#%%\n"
    }
   }
  },
  {
   "cell_type": "code",
   "execution_count": 7,
   "outputs": [
    {
     "name": "stdout",
     "output_type": "stream",
     "text": [
      "The total number of inventors is,  100129\n",
      "The number of patents is,  35416\n"
     ]
    }
   ],
   "source": [
    "\"\"\"\n",
    "Choose a random selection of inventors who have produced patents\n",
    "\n",
    "The total number of inventors does not match average * number of patents because people repeat!\n",
    "\n",
    "\"\"\"\n",
    "np.random.seed(768)\n",
    "\n",
    "section_data = data[data[\"year\"].isin([2002, 2003, 2004, 2005, 2006, 2007, 2008, 2009, 2010])]\n",
    "section_data = section_data.dropna(subset=[\"inventor_distance\"])\n",
    "chosen_patents = np.random.choice(a=section_data[\"patent_id\"].unique(), size=36500)\n",
    "idx = section_data.index[section_data[\"patent_id\"].isin(chosen_patents)]\n",
    "section_data = section_data.loc[idx]\n",
    "print(\"The total number of inventors is, \", len(section_data[\"inventor_id\"].unique()))\n",
    "print(\"The number of patents is, \", len(section_data[\"patent_id\"].unique()))"
   ],
   "metadata": {
    "collapsed": false,
    "pycharm": {
     "name": "#%%\n"
    }
   }
  },
  {
   "cell_type": "code",
   "execution_count": 8,
   "outputs": [],
   "source": [
    "del data"
   ],
   "metadata": {
    "collapsed": false,
    "pycharm": {
     "name": "#%%\n"
    }
   }
  },
  {
   "cell_type": "code",
   "execution_count": 10,
   "outputs": [
    {
     "name": "stdout",
     "output_type": "stream",
     "text": [
      "The average colab size is  6.0\n"
     ]
    }
   ],
   "source": [
    "print(\"The average colab size is \", np.round(np.mean(section_data[\"no_inventors\"])))"
   ],
   "metadata": {
    "collapsed": false,
    "pycharm": {
     "name": "#%%\n"
    }
   }
  },
  {
   "cell_type": "code",
   "execution_count": 11,
   "outputs": [
    {
     "data": {
      "text/plain": "'\\nRandomly match inventors into the same number of collaborations with the same mean inventor size\\n'"
     },
     "execution_count": 11,
     "metadata": {},
     "output_type": "execute_result"
    }
   ],
   "source": [
    "\"\"\"\n",
    "Randomly match inventors into the same number of collaborations with the same mean inventor size\n",
    "\"\"\""
   ],
   "metadata": {
    "collapsed": false,
    "pycharm": {
     "name": "#%%\n"
    }
   }
  },
  {
   "cell_type": "code",
   "execution_count": 13,
   "outputs": [
    {
     "name": "stdout",
     "output_type": "stream",
     "text": [
      "The total number of inventors is,  100129\n",
      "The number of patents is,  35416\n"
     ]
    }
   ],
   "source": [
    "observed_distances = section_data[[\"patent_id\", \"inventor_id\", \"inventor_distance\", \"year\", \"team_prox\",\n",
    "                                   \"diameter\", \"path_prox_fraction\", \"no_skill_groups\"]]\n",
    "observed_distances = observed_distances.drop_duplicates()\n",
    "\n",
    "print(\"The total number of inventors is, \", len(observed_distances[\"inventor_id\"].unique()))\n",
    "print(\"The number of patents is, \", len(observed_distances[\"patent_id\"].unique()))\n",
    "\n",
    "colab_count = len(observed_distances[\"patent_id\"].unique())\n",
    "random_distances = []\n",
    "\n",
    "years = [2003, 2004, 2005, 2006, 2007, 2008, 2009]\n"
   ],
   "metadata": {
    "collapsed": false,
    "pycharm": {
     "name": "#%%\n"
    }
   }
  },
  {
   "cell_type": "code",
   "execution_count": 15,
   "outputs": [
    {
     "name": "stdout",
     "output_type": "stream",
     "text": [
      "2003\n",
      "2004\n",
      "2005\n",
      "2006\n",
      "2007\n",
      "2008\n",
      "2009\n",
      "Wall time: 1h 20min 33s\n"
     ]
    },
    {
     "data": {
      "text/plain": "'\\nadj_tech_top = nx.read_graphml(\"adj_tech_top.graphml\")\\nos.chdir(\"D:\\\\IDEA Masters\\\\TFM data\\\\Paper Data\")\\nsubclass_dict = dict(zip(np.arange(634), graph.nodes))\\nmodularity_data = pd.read_csv(\"Tech Network Top Links modularity.csv\")\\nskill_group_dict = dict(zip(modularity_data[\"Label\"], modularity_data[\"modularity_class\"]))\\nreverse_subclass_dict = {k : l for l, k in subclass_dict.items()}\\n\\nwarnings.filterwarnings(\"ignore\")\\nfor year in years:\\n\\n    section_counts = pd.read_csv(f\"Section Counts {year-1}.csv\")\\n    section_counts = section_counts[[c for c in graph.nodes()]]\\n\\n    pat = 1\\n    while pat < colab_count/9:\\n\\n        team_members = np.random.choice(observed_distances[observed_distances[\"year\"] == year][\"inventor_id\"].unique(),\\n                                     size=int(np.round(np.mean(section_data[\"no_inventors\"]))))\\n        team_skills = np.zeros((1, 634))\\n\\n        for member in team_members:\\n\\n            team_skills = team_skills + np.array(section_counts.loc[member])\\n\\n            total_skills =  np.sum(team_skills)\\n\\n            if total_skills > 0:\\n\\n                team_skills_weights = team_skills / np.sum(team_skills)\\n\\n                team_prox = []\\n                skill_distances = []\\n                for idi, i in enumerate(team_skills[0]):\\n                    if i > 0:\\n                        for idj, j in enumerate(team_skills[0]):\\n                            if j > 0:\\n\\n                                skill_prox = team_skills_weights[0][idi] * team_skills_weights[0][idj] * adj_tech[idi, idj]\\n                                team_prox.append(skill_prox)\\n                                skill_distances.append((idi, idj, adj_tech[idi, idj]))\\n\\n                proximity = np.sum(team_prox)\\n\\n                weakest_link = min(skill_distances, key=itemgetter(2))\\n                diameter = weakest_link[2]\\n                skill_1 = list(graph.nodes)[weakest_link[0]]\\n                skill_2 = list(graph.nodes)[weakest_link[1]]\\n\\n                subclasses = []\\n                skill_groups = []\\n\\n                for skill_id, skill in enumerate(team_skills[0]):\\n\\n                    if skill > 0:\\n\\n                        subclass = subclass_dict[skill_id]\\n                        subclasses.append(subclass)\\n\\n                        skill_group = skill_group_dict[subclass]\\n                        skill_groups.append(skill_group)\\n\\n                no_subclasses = len(set(subclasses))\\n                no_skill_groups = len(set(skill_groups))\\n\\n                weakest_link_path = nx.shortest_path(adj_tech_top, source=skill_1, target=skill_2)[1:-1]\\n\\n                path_prox = 0\\n\\n                if len(weakest_link_path) > 0:\\n\\n                    for skill in weakest_link_path:\\n\\n                        path_divergence = []\\n                        subclass_code = reverse_subclass_dict[skill]\\n\\n                        if team_skills[0, subclass_code] > 0:\\n\\n                            path_prox = path_prox + 1\\n\\n                        else:\\n\\n                            for skill_2 in subclasses:\\n\\n                                nearest_skill = graph.edges[skill, skill_2][\"weight\"]\\n                                path_divergence.append(nearest_skill)\\n\\n                            path_prox = path_prox + np.nanmax(path_divergence)\\n\\n                    path_prox_fraction = path_prox / len(weakest_link_path)\\n                else:\\n\\n                    path_prox = np.nan\\n                    path_prox_fraction = np.nan\\n\\n                random_distances.append(proximity)\\n                random_diameters.append(diameter)\\n                random_path_prox.append(path_prox_fraction)\\n                random_no_skills.append(no_skill_groups)\\n\\n        pat = pat + 1\\n\\n    print(year)\\n    del section_counts\\n'"
     },
     "execution_count": 15,
     "metadata": {},
     "output_type": "execute_result"
    }
   ],
   "source": [
    "%%time\n",
    "\n",
    "warnings.filterwarnings(\"ignore\")\n",
    "for year in years:\n",
    "\n",
    "    section_counts = pd.read_csv(f\"Section Counts {year-1}.csv\")\n",
    "    section_counts = section_counts[[c for c in graph.nodes()]]\n",
    "\n",
    "    pat = 1\n",
    "    while pat < colab_count/9:\n",
    "\n",
    "        inventors = np.random.choice(observed_distances[observed_distances[\"year\"] == year][\"inventor_id\"].unique(),\n",
    "                                     size=int(np.round(np.mean(section_data[\"no_inventors\"]))))\n",
    "        distances = []\n",
    "        for (inv1, inv2) in combinations(inventors, 2):\n",
    "\n",
    "                inv1_skills = np.array(section_counts.loc[inv1])\n",
    "                inv2_skills = np.array(section_counts.loc[inv2])\n",
    "\n",
    "                average = MeasureDist(inv1_skills, inv2_skills, adj_tech)\n",
    "                distances.append(average)\n",
    "\n",
    "        random_distances.append(np.nanmean(distances))\n",
    "\n",
    "        pat = pat + 1\n",
    "\n",
    "    print(year)\n",
    "    del section_counts\n",
    "\n",
    "warnings.filterwarnings(\"default\")"
   ],
   "metadata": {
    "collapsed": false,
    "pycharm": {
     "name": "#%%\n"
    }
   }
  },
  {
   "cell_type": "code",
   "execution_count": 17,
   "outputs": [
    {
     "name": "stdout",
     "output_type": "stream",
     "text": [
      "The random mean is,  1.0928159848810515\n",
      "The observed mean of inventor distance is,  0.4327950847169997\n",
      "The observed mean of team prox is,  0.43701843698310366\n"
     ]
    },
    {
     "name": "stderr",
     "output_type": "stream",
     "text": [
      "C:\\ProgramData\\Anaconda3\\envs\\pythonProject\\lib\\site-packages\\ipykernel\\ipkernel.py:287: DeprecationWarning: `should_run_async` will not call `transform_cell` automatically in the future. Please pass the result to `transformed_cell` argument and any exception that happen during thetransform in `preprocessing_exc_tuple` in IPython 7.17 and above.\n",
      "  and should_run_async(code)\n"
     ]
    }
   ],
   "source": [
    "print(\"The random mean is, \", np.nanmean(random_distances))\n",
    "\n",
    "print(\"The observed mean of inventor distance is, \", np.nanmean(observed_distances[\"inventor_distance\"]))\n",
    "\n",
    "print(\"The observed mean of team prox is, \", np.nanmean(observed_distances[\"team_prox\"]))\n"
   ],
   "metadata": {
    "collapsed": false,
    "pycharm": {
     "name": "#%%\n"
    }
   }
  },
  {
   "cell_type": "code",
   "execution_count": 18,
   "outputs": [
    {
     "name": "stderr",
     "output_type": "stream",
     "text": [
      "C:\\ProgramData\\Anaconda3\\envs\\pythonProject\\lib\\site-packages\\ipykernel\\ipkernel.py:287: DeprecationWarning: `should_run_async` will not call `transform_cell` automatically in the future. Please pass the result to `transformed_cell` argument and any exception that happen during thetransform in `preprocessing_exc_tuple` in IPython 7.17 and above.\n",
      "  and should_run_async(code)\n"
     ]
    }
   ],
   "source": [
    "os.chdir(\"D:\\\\IDEA Masters\\\\TFM data\\\\Paper Data\")"
   ],
   "metadata": {
    "collapsed": false,
    "pycharm": {
     "name": "#%%\n"
    }
   }
  },
  {
   "cell_type": "code",
   "execution_count": 19,
   "outputs": [
    {
     "name": "stderr",
     "output_type": "stream",
     "text": [
      "C:\\ProgramData\\Anaconda3\\envs\\pythonProject\\lib\\site-packages\\ipykernel\\ipkernel.py:287: DeprecationWarning: `should_run_async` will not call `transform_cell` automatically in the future. Please pass the result to `transformed_cell` argument and any exception that happen during thetransform in `preprocessing_exc_tuple` in IPython 7.17 and above.\n",
      "  and should_run_async(code)\n",
      "<ipython-input-19-1e8cf0ab129c>:1: ResourceWarning: unclosed file <_io.BufferedReader name='random distances All.p'>\n",
      "  random_distances = pickle.load(open(\"random distances All.p\", \"rb\"))\n",
      "ResourceWarning: Enable tracemalloc to get the object allocation traceback\n",
      "C:\\Users\\Joe's PC\\AppData\\Roaming\\Python\\Python38\\site-packages\\seaborn\\distributions.py:509: MatplotlibDeprecationWarning: Using a string of single character colors as a color sequence is deprecated since 3.2 and will be removed two minor releases later. Use an explicit list instead.\n",
      "  scout = self.ax.fill_between([], [], color=color, **plot_kws)\n",
      "C:\\Users\\Joe's PC\\AppData\\Roaming\\Python\\Python38\\site-packages\\seaborn\\distributions.py:555: MatplotlibDeprecationWarning: Using a string of single character colors as a color sequence is deprecated since 3.2 and will be removed two minor releases later. Use an explicit list instead.\n",
      "  artists = plot_func(\n",
      "C:\\Users\\Joe's PC\\AppData\\Roaming\\Python\\Python38\\site-packages\\seaborn\\distributions.py:509: MatplotlibDeprecationWarning: Using a string of single character colors as a color sequence is deprecated since 3.2 and will be removed two minor releases later. Use an explicit list instead.\n",
      "  scout = self.ax.fill_between([], [], color=color, **plot_kws)\n",
      "C:\\Users\\Joe's PC\\AppData\\Roaming\\Python\\Python38\\site-packages\\seaborn\\distributions.py:555: MatplotlibDeprecationWarning: Using a string of single character colors as a color sequence is deprecated since 3.2 and will be removed two minor releases later. Use an explicit list instead.\n",
      "  artists = plot_func(\n"
     ]
    },
    {
     "data": {
      "text/plain": "<Figure size 576x360 with 1 Axes>",
      "image/png": "[encoded data removed]"
     },
     "metadata": {},
     "output_type": "display_data"
    }
   ],
   "source": [
    "random_distances = pickle.load(open(\"random distances All.p\", \"rb\"))\n",
    "\n",
    "fig, ax = plt.subplots(facecolor=\"w\", figsize=(8,5))\n",
    "plt.suptitle(\"Compare: Random vs Observed Collaboration Distances\", fontsize=16)\n",
    "sns.histplot(random_distances, color=\"firebrick\", stat=\"probability\", ax=ax, bins=30, alpha=0.2, edgecolor=\"\", label=\"Random\")\n",
    "sns.histplot(observed_distances[\"inventor_distance\"], color=\"darkslategray\", stat=\"probability\",\n",
    "             ax=ax, bins=30, alpha=0.2, edgecolor=\"\", label=\"Observed\")\n",
    "plt.xlabel(\"Proximity: p(i, j)\", fontsize=14)\n",
    "plt.ylabel(\"Probability\", fontsize=14)\n",
    "plt.legend(fontsize=\"large\")\n",
    "#fig.savefig(\"Random vs Observed All.png\", dpi=300)\n",
    "plt.show()"
   ],
   "metadata": {
    "collapsed": false,
    "pycharm": {
     "name": "#%%\n"
    }
   }
  },
  {
   "cell_type": "code",
   "execution_count": 20,
   "outputs": [
    {
     "name": "stderr",
     "output_type": "stream",
     "text": [
      "C:\\ProgramData\\Anaconda3\\envs\\pythonProject\\lib\\site-packages\\ipykernel\\ipkernel.py:287: DeprecationWarning: `should_run_async` will not call `transform_cell` automatically in the future. Please pass the result to `transformed_cell` argument and any exception that happen during thetransform in `preprocessing_exc_tuple` in IPython 7.17 and above.\n",
      "  and should_run_async(code)\n",
      "<ipython-input-20-6344fffd9032>:39: ResourceWarning: unclosed file <_io.BufferedWriter name='random distances 03 18.p'>\n",
      "  pickle.dump(random_distances, open(\"random distances 03 18.p\", \"wb\"))\n",
      "ResourceWarning: Enable tracemalloc to get the object allocation traceback\n"
     ]
    }
   ],
   "source": [
    "pickle.dump(random_distances, open(\"random distances 03 18.p\", \"wb\"))"
   ],
   "metadata": {
    "collapsed": false,
    "pycharm": {
     "name": "#%%\n"
    }
   }
  },
  {
   "cell_type": "code",
   "execution_count": 22,
   "outputs": [
    {
     "name": "stderr",
     "output_type": "stream",
     "text": [
      "C:\\ProgramData\\Anaconda3\\envs\\pythonProject\\lib\\site-packages\\ipykernel\\ipkernel.py:287: DeprecationWarning: `should_run_async` will not call `transform_cell` automatically in the future. Please pass the result to `transformed_cell` argument and any exception that happen during thetransform in `preprocessing_exc_tuple` in IPython 7.17 and above.\n",
      "  and should_run_async(code)\n"
     ]
    }
   ],
   "source": [
    "\"\"\"\n",
    "Show that within local neighborhoods, people are connected to people closer to them on the tech network.\n",
    "\"\"\"\n",
    "\n",
    "collaboration_links = []\n",
    "\n",
    "for (id, patent) in section_data[section_data[\"year\"].isin([2002, 2003, 2004, 2005, 2006, 2007, 2008, 2009])].groupby(\"patent_id\"):\n",
    "\n",
    "    collaboration_links = collaboration_links + [combo for combo in combinations(patent[\"inventor_id\"].unique(), 2)]\n",
    "\n",
    "collaboration_links = set(collaboration_links)\n",
    "\n",
    "\n",
    "g_colab = nx.Graph()\n",
    "for (u, v) in collaboration_links:\n",
    "    g_colab.add_edge(u, v)"
   ],
   "metadata": {
    "collapsed": false,
    "pycharm": {
     "name": "#%%\n"
    }
   }
  },
  {
   "cell_type": "code",
   "execution_count": 24,
   "outputs": [],
   "source": [
    "\"\"\"\n",
    "Run the FGL methodology\n",
    "\"\"\"\n",
    "\n",
    "paths = dict(nx.all_pairs_shortest_path_length(g_colab))"
   ],
   "metadata": {
    "collapsed": false,
    "pycharm": {
     "name": "#%%\n"
    }
   }
  },
  {
   "cell_type": "code",
   "execution_count": 25,
   "outputs": [],
   "source": [
    "lengths_a = []\n",
    "\n",
    "for inventor in g_colab.nodes:\n",
    "    d = paths[inventor]\n",
    "\n",
    "    for path in [dval for dval in d.values()]:\n",
    "        if path >= 1:\n",
    "            lengths_a.append(path)\n"
   ],
   "metadata": {
    "collapsed": false,
    "pycharm": {
     "name": "#%%\n"
    }
   }
  },
  {
   "cell_type": "code",
   "execution_count": 26,
   "outputs": [],
   "source": [
    "nx.write_graphml(g_colab, \"g_colab 03 18.graphml\")"
   ],
   "metadata": {
    "collapsed": false,
    "pycharm": {
     "name": "#%%\n"
    }
   }
  },
  {
   "cell_type": "code",
   "execution_count": 28,
   "outputs": [
    {
     "name": "stdout",
     "output_type": "stream",
     "text": [
      "Number of deleted nodes:  16229\n"
     ]
    }
   ],
   "source": [
    "\n",
    "bins = np.arange(1, np.max(lengths_a)+1)\n",
    "hist_a = np.histogram(lengths_a, bins=bins)\n",
    "\n",
    "collaboration_links = []\n",
    "\n",
    "for (id, patent) in section_data[section_data[\"year\"] == 2010].groupby(\"patent_id\"):\n",
    "\n",
    "    collaboration_links = collaboration_links + [combo for combo in combinations(patent[\"inventor_id\"].unique(), 2)]\n",
    "\n",
    "collaboration_links = set(collaboration_links)\n",
    "\n",
    "g_colab_2018 = nx.Graph((x, y) for (x, y) in collaboration_links)\n",
    "\n",
    "node_deleted = []\n",
    "node_dict = g_colab_2018.nodes\n",
    "for node in node_dict:\n",
    "    if node not in g_colab.nodes:\n",
    "        node_deleted.append(node)\n",
    "\n",
    "print(\"Number of deleted nodes: \", len(node_deleted))\n",
    "\n",
    "\n",
    "g_colab_2018.remove_nodes_from(node_deleted)\n",
    "\n",
    "\"\"\"\n",
    "Drop all edges which are repeat collaborations from the previous 5 years. We only want new collaborations.\n",
    "\n",
    "new_colabs = []\n",
    "for edge in g_colab_2018.edges:\n",
    "    if edge not in g_colab.edges:\n",
    "        new_colabs.append(edge)\n",
    "\n",
    "\"\"\"\n",
    "lengths_b = []\n",
    "for (inv1, inv2) in g_colab_2018.edges:\n",
    "    if nx.has_path(g_colab, source=inv1, target=inv2):\n",
    "        paths = nx.shortest_path_length(g_colab, source=inv1, target=inv2)\n",
    "        lengths_b.append(paths)\n"
   ],
   "metadata": {
    "collapsed": false,
    "pycharm": {
     "name": "#%%\n"
    }
   }
  },
  {
   "cell_type": "code",
   "execution_count": 29,
   "outputs": [
    {
     "name": "stderr",
     "output_type": "stream",
     "text": [
      "C:\\ProgramData\\Anaconda3\\envs\\pythonProject\\lib\\site-packages\\ipykernel\\ipkernel.py:287: DeprecationWarning: `should_run_async` will not call `transform_cell` automatically in the future. Please pass the result to `transformed_cell` argument and any exception that happen during thetransform in `preprocessing_exc_tuple` in IPython 7.17 and above.\n",
      "  and should_run_async(code)\n"
     ]
    }
   ],
   "source": [
    "del collaboration_links"
   ],
   "metadata": {
    "collapsed": false,
    "pycharm": {
     "name": "#%%\n"
    }
   }
  },
  {
   "cell_type": "code",
   "execution_count": 30,
   "outputs": [],
   "source": [
    "bins_b = np.arange(1, np.max(lengths_a)+1)\n",
    "hist_b = np.histogram(lengths_b, bins=bins_b)\n",
    "conditional = hist_b[0] / hist_a[0]"
   ],
   "metadata": {
    "collapsed": false,
    "pycharm": {
     "name": "#%%\n"
    }
   }
  },
  {
   "cell_type": "code",
   "execution_count": 31,
   "outputs": [
    {
     "data": {
      "text/plain": "<Figure size 432x288 with 1 Axes>",
      "image/png": "[encoded data removed]"
     },
     "metadata": {},
     "output_type": "display_data"
    }
   ],
   "source": [
    "fig, ax = plt.subplots(facecolor=\"w\")\n",
    "plt.plot(np.arange(2, 10), conditional[1:9], color=\"firebrick\", lw=3,marker='o', markersize=8, markerfacecolor='white')\n",
    "plt.title(\"Probability of collaboration conditional \\n\" + r\"on distance $\\phi(i, j)$\", fontsize=14)\n",
    "#plt.text(x=-2, y=-0.0006, s=\"Probability of (i, j) collaborating conditional on distance \\n \"\n",
    "                          #r\"between i and j, $\\phi(i, j)$, on the existing collaboration network\", fontsize=12)\n",
    "\n",
    "plt.ylabel(\"Probability\", fontsize=14)\n",
    "#plt.xticks(np.arange(9), np.arange(1, 11))\n",
    "#plt.yticks([ 0.    ,  0.0001,  0.0002,  0.0003,  0.0004,  0.0005,\n",
    " #        0.0006,  0.0007,  0.0008,  0.0009],\n",
    "  # np.round(np.array([ 0.    ,  0.0001,  0.0002,  0.0003,  0.0004,  0.0005,\n",
    "   #      0.0006,  0.0007,  0.0008,  0.0009])*10, 4))\n",
    "plt.ticklabel_format(axis=\"y\", style=\"sci\", scilimits=(0,0))\n",
    "#plt.ylim((-0.00008, 0.0016))\n",
    "plt.tight_layout()\n",
    "plt.xlabel(r\"Distance: $\\phi(i, j)$\", fontsize=14)\n",
    "plt.tight_layout()\n",
    "#fig.savefig(\"Conditional Probability All\", dpi=300)\n",
    "#plt.yticks()"
   ],
   "metadata": {
    "collapsed": false,
    "pycharm": {
     "name": "#%%\n"
    }
   }
  },
  {
   "cell_type": "code",
   "execution_count": 32,
   "outputs": [
    {
     "name": "stderr",
     "output_type": "stream",
     "text": [
      "C:\\ProgramData\\Anaconda3\\envs\\pythonProject\\lib\\site-packages\\ipykernel\\ipkernel.py:287: DeprecationWarning: `should_run_async` will not call `transform_cell` automatically in the future. Please pass the result to `transformed_cell` argument and any exception that happen during thetransform in `preprocessing_exc_tuple` in IPython 7.17 and above.\n",
      "  and should_run_async(code)\n",
      "<ipython-input-32-bd682d9d333c>:1: ResourceWarning: unclosed file <_io.BufferedWriter name='conditional 03 18.p'>\n",
      "  pickle.dump(conditional, open(\"conditional 03 18.p\", \"wb\"))\n",
      "ResourceWarning: Enable tracemalloc to get the object allocation traceback\n"
     ]
    }
   ],
   "source": [
    "pickle.dump(conditional, open(\"conditional All.p\", \"wb\"))\n",
    "pickle.dump(lengths_a, open(\"lengths_a All.p\", \"wb\"))\n",
    "pickle.dump(lengths_b, open(\"lengths_b All.p\", \"wb\"))"
   ],
   "metadata": {
    "collapsed": false,
    "pycharm": {
     "name": "#%%\n"
    }
   }
  },
  {
   "cell_type": "code",
   "execution_count": 15,
   "outputs": [
    {
     "data": {
      "text/plain": "<Figure size 648x360 with 2 Axes>",
      "image/png": "[encoded data removed]"
     },
     "metadata": {},
     "output_type": "display_data"
    }
   ],
   "source": [
    "selected_lens = np.random.choice(lengths_a, 600000)\n",
    "\n",
    "fig, (ax1, ax2) = plt.subplots(nrows=1, ncols=2, facecolor=\"w\", figsize=(9, 5))\n",
    "fig.suptitle(\"Existing Collaborator Network\", fontsize=16)\n",
    "\n",
    "#All inventors\n",
    "sns.histplot(selected_lens, stat=\"probability\", bins=np.arange(np.max(selected_lens)),\n",
    "             color=\"firebrick\", ax=ax1)\n",
    "ax1.set_title(\"All Inventors \", fontsize=14)\n",
    "ax1.set_xlabel(r\"Distance: $\\phi(i, j)$\", fontsize=14)\n",
    "ax1.set_ylabel(\"Probability\", fontsize=14)\n",
    "ax1.set_xlim((2, np.max(selected_lens)))\n",
    "#Collaborating inventors\n",
    "\n",
    "sns.histplot(lengths_b, stat=\"probability\", bins=np.arange(-0.5, np.max(selected_lens)+1, 1), color=\"firebrick\", ax=ax2)\n",
    "ax2.set_title(\"New Collaborators\", fontsize=14)\n",
    "ax2.set_xlabel(r\"Distance: $\\phi(i, j)$\", fontsize=14)\n",
    "ax2.set_ylabel(\"Probability\", fontsize=14)\n",
    "ax2.set_xlim((1.5, np.max(lengths_b)))\n",
    "ax2.set_xticks([2, 5, 10, 15, 20, 25])\n",
    "ax2.set_ylim((0, 0.1))\n",
    "plt.tight_layout()\n",
    "#fig.savefig(\"Existing Collaborator Network All.png\", dpi=300)\n",
    "\n"
   ],
   "metadata": {
    "collapsed": false,
    "pycharm": {
     "name": "#%%\n"
    }
   }
  },
  {
   "cell_type": "code",
   "execution_count": 37,
   "outputs": [
    {
     "name": "stderr",
     "output_type": "stream",
     "text": [
      "C:\\ProgramData\\Anaconda3\\envs\\pythonProject\\lib\\site-packages\\ipykernel\\ipkernel.py:287: DeprecationWarning: `should_run_async` will not call `transform_cell` automatically in the future. Please pass the result to `transformed_cell` argument and any exception that happen during thetransform in `preprocessing_exc_tuple` in IPython 7.17 and above.\n",
      "  and should_run_async(code)\n"
     ]
    }
   ],
   "source": [
    "del lengths_a"
   ],
   "metadata": {
    "collapsed": false,
    "pycharm": {
     "name": "#%%\n"
    }
   }
  },
  {
   "cell_type": "code",
   "execution_count": 38,
   "outputs": [],
   "source": [
    "collaboration_links = []\n",
    "\n",
    "for (id, patent) in section_data[section_data[\"year\"] == 2010].groupby(\"patent_id\"):\n",
    "\n",
    "    collaboration_links = collaboration_links + [combo for combo in combinations(patent[\"inventor_id\"].unique(), 2)]\n",
    "\n",
    "collaboration_links = set(collaboration_links)\n",
    "\n",
    "g_colab_2018_copy = nx.Graph((x, y) for (x, y) in collaboration_links)\n"
   ],
   "metadata": {
    "collapsed": false,
    "pycharm": {
     "name": "#%%\n"
    }
   }
  },
  {
   "cell_type": "code",
   "execution_count": 40,
   "outputs": [],
   "source": [
    "section_counts = pd.read_csv(\"Section Counts 2009.csv\")\n",
    "section_counts = section_counts[[c for c in graph.nodes()]]"
   ],
   "metadata": {
    "collapsed": false,
    "pycharm": {
     "name": "#%%\n"
    }
   }
  },
  {
   "cell_type": "code",
   "execution_count": null,
   "outputs": [],
   "source": [
    "%%time\n",
    "\n",
    "@njit(parallel=True)\n",
    "def MeasureDist(inv1_skills, inv2_skills, adj_tech):\n",
    "\n",
    "    g = np.outer(np.transpose(inv1_skills), inv2_skills) * adj_tech\n",
    "    g = np.where(g == 0, np.nan, g)\n",
    "\n",
    "    return  np.nanmean(g)\n",
    "\n",
    "radi = list(range(1, 35))\n",
    "random_invs = np.random.choice(g_colab.nodes, 25000)\n",
    "radi_mean = []\n",
    "radi_counts = {}\n",
    "for radius in radi:\n",
    "\n",
    "    radi_count = 0\n",
    "    mean_weights_radius = []\n",
    "\n",
    "    for inv1 in random_invs:\n",
    "        paths = nx.single_source_shortest_path_length(g_colab, inv1)\n",
    "        radius_paths = [k for k,v in paths.items() if v == radius]\n",
    "        inv1_skills = np.array(section_counts.loc[inv1])\n",
    "        inv1_skills[inv1_skills > 0 ] = 1\n",
    "\n",
    "        for inv2 in radius_paths:\n",
    "\n",
    "            if inv1 != inv2:\n",
    "                inv2_skills = np.array(section_counts.loc[inv2])\n",
    "                inv2_skills[inv2_skills > 0 ] = 1\n",
    "                proximity = MeasureDist(inv1_skills, inv2_skills, adj_tech)\n",
    "                mean_weights_radius.append(proximity)\n",
    "                radi_count = radi_count + 1\n",
    "\n",
    "    radi_counts.update({radius : radi_count})\n",
    "    avg = np.nanmean(mean_weights_radius)\n",
    "    radi_mean.append(avg)\n",
    "\n",
    "    print(radius, avg)"
   ],
   "metadata": {
    "collapsed": false,
    "pycharm": {
     "name": "#%%\n"
    }
   }
  },
  {
   "cell_type": "code",
   "execution_count": 42,
   "outputs": [
    {
     "name": "stderr",
     "output_type": "stream",
     "text": [
      "C:\\ProgramData\\Anaconda3\\envs\\pythonProject\\lib\\site-packages\\ipykernel\\ipkernel.py:287: DeprecationWarning: `should_run_async` will not call `transform_cell` automatically in the future. Please pass the result to `transformed_cell` argument and any exception that happen during thetransform in `preprocessing_exc_tuple` in IPython 7.17 and above.\n",
      "  and should_run_async(code)\n"
     ]
    }
   ],
   "source": [
    "\n",
    "pickle.dump(radi_mean, open(f\"radi_mean 03 18.p\", \"wb\"))"
   ],
   "metadata": {
    "collapsed": false,
    "pycharm": {
     "name": "#%%\n"
    }
   }
  },
  {
   "cell_type": "code",
   "execution_count": 26,
   "outputs": [
    {
     "data": {
      "text/plain": "<Figure size 576x360 with 1 Axes>",
      "image/png": "[encoded data removed]"
     },
     "metadata": {},
     "output_type": "display_data"
    }
   ],
   "source": [
    "random_distances = pickle.load(open(\"random distances All.p\", \"rb\"))\n",
    "radi_mean = pickle.load(open(\"radi_mean All.p\", \"rb\"))\n",
    "\n",
    "radi = list(range(1, 35))\n",
    "fig, ax1 = plt.subplots(facecolor=\"w\", figsize=(8, 5))\n",
    "ax1.plot(radi, radi_mean, color=\"firebrick\", lw=3, marker='o',  markersize=8,\n",
    "         markerfacecolor='white', zorder=5, dashes=[2,1,2,1])\n",
    "         #, label=\"Pr(Colab) = 0\")\n",
    "#plt.xticks(np.arange(1, 11), [\"\",2, \"\", 4, \"\", 6, \"\", 8, \"\", 10])\n",
    "plt.axhline(np.nanmean(radi_mean), 0, 1, color=\"darkblue\", alpha=0.5, dashes=[3,1,3,1],\n",
    "            lw=3, zorder=1, label=r\"$\\mathbb{E}[p(i, j)]$\")\n",
    "plt.title(\"Average Proximity of Neighbours\", fontsize=18)\n",
    "plt.xlabel(r\"Distance, $\\phi(i, j)$\", fontsize=14)\n",
    "plt.ylabel(r\"$\\mathbb{E}[p(i, j)|\\phi(i, j) = k]$\", fontsize=16)\n",
    "plt.axhline(np.nanmean(random_distances), 0, 1, color=\"darkgreen\", alpha=0.5,\n",
    "            dashes=[3,1,3,1], zorder=1, label=r\"$ \\mathbb{E}[p(i, j)] \\ random \\ matching$\", lw=3)\n",
    "plt.legend(fontsize=\"x-large\")\n",
    "plt.xlim((0.5, 35))\n",
    "plt.tight_layout()\n",
    "#plt.legend(fontsize=\"large\")\n",
    "fig.savefig(\"Expected Value from colab All.png\", dpi=300)\n"
   ],
   "metadata": {
    "collapsed": false,
    "pycharm": {
     "name": "#%%\n"
    }
   }
  },
  {
   "cell_type": "code",
   "execution_count": 91,
   "outputs": [
    {
     "name": "stderr",
     "output_type": "stream",
     "text": [
      "C:\\ProgramData\\Anaconda3\\envs\\pythonProject\\lib\\site-packages\\ipykernel\\ipkernel.py:287: DeprecationWarning: `should_run_async` will not call `transform_cell` automatically in the future. Please pass the result to `transformed_cell` argument and any exception that happen during thetransform in `preprocessing_exc_tuple` in IPython 7.17 and above.\n",
      "  and should_run_async(code)\n"
     ]
    }
   ],
   "source": [
    "\"\"\"\n",
    "EXTRAS:\n",
    "\n",
    "\n",
    "\n",
    "Build a knowledge and collab network to display\n",
    "\"\"\""
   ],
   "metadata": {
    "collapsed": false,
    "pycharm": {
     "name": "#%%\n"
    }
   }
  },
  {
   "cell_type": "code",
   "execution_count": 140,
   "outputs": [
    {
     "name": "stderr",
     "output_type": "stream",
     "text": [
      "C:\\ProgramData\\Anaconda3\\envs\\pythonProject\\lib\\site-packages\\ipykernel\\ipkernel.py:287: DeprecationWarning: `should_run_async` will not call `transform_cell` automatically in the future. Please pass the result to `transformed_cell` argument and any exception that happen during thetransform in `preprocessing_exc_tuple` in IPython 7.17 and above.\n",
      "  and should_run_async(code)\n"
     ]
    },
    {
     "name": "stdout",
     "output_type": "stream",
     "text": [
      "No of inventors,  690\n",
      "Wall time: 47min 18s\n"
     ]
    }
   ],
   "source": [
    "%%time\n",
    "selected_pats = np.random.choice(section_data[section_data[\"year\"] == 2010][\"patent_id\"], 150)\n",
    "selected_pats = section_data[section_data[\"patent_id\"].isin(selected_pats)]\n",
    "print(\"No of inventors, \", len(selected_pats[\"inventor_id\"].unique()))\n",
    "collaboration_links = []\n",
    "\n",
    "for (id, patent) in selected_pats.groupby(\"patent_id\"):\n",
    "\n",
    "    collaboration_links = collaboration_links + [combo for combo in combinations(patent[\"inventor_id\"].unique(), 2)]\n",
    "\n",
    "collaboration_links = set(collaboration_links)\n",
    "\n",
    "g_visual_colab = nx.Graph((x, y) for (x, y) in collaboration_links)\n",
    "knowledge_edges = []\n",
    "for inv1 in g_visual_colab.nodes:\n",
    "\n",
    "    select_inv_dist = []\n",
    "    inv1_skills = np.array(section_counts.loc[inv1])\n",
    "\n",
    "    for inv2 in g_visual_colab.nodes:\n",
    "\n",
    "        if inv1 != inv2:\n",
    "\n",
    "            inv2_skills = np.array(section_counts.loc[inv2])\n",
    "\n",
    "            average = MeasureDist(inv1_skills, inv2_skills, adj_tech)\n",
    "            select_inv_dist.append(((inv1, inv2), average))\n",
    "    for pair in sorted(select_inv_dist,key=lambda x: x[1], reverse=True)[0:2]:\n",
    "        knowledge_edges.append(pair)\n",
    "\n",
    "g_visual_know = nx.Graph()\n",
    "for (edge, weight) in knowledge_edges:\n",
    "    (u, v) = edge\n",
    "    g_visual_know.add_edge(u, v, weight=weight)"
   ],
   "metadata": {
    "collapsed": false,
    "pycharm": {
     "name": "#%%\n"
    }
   }
  },
  {
   "cell_type": "code",
   "execution_count": 141,
   "outputs": [
    {
     "name": "stderr",
     "output_type": "stream",
     "text": [
      "C:\\ProgramData\\Anaconda3\\envs\\pythonProject\\lib\\site-packages\\ipykernel\\ipkernel.py:287: DeprecationWarning: `should_run_async` will not call `transform_cell` automatically in the future. Please pass the result to `transformed_cell` argument and any exception that happen during thetransform in `preprocessing_exc_tuple` in IPython 7.17 and above.\n",
      "  and should_run_async(code)\n"
     ]
    }
   ],
   "source": [
    "nx.write_graphml(g_visual_know, \"Visual Knowledge 2010.graphml\")"
   ],
   "metadata": {
    "collapsed": false,
    "pycharm": {
     "name": "#%%\n"
    }
   }
  },
  {
   "cell_type": "code",
   "execution_count": null,
   "outputs": [],
   "source": [
    "nx.write_graphml(g_visual_colab, \"Visual Colab 2010.graphml\")"
   ],
   "metadata": {
    "collapsed": false,
    "pycharm": {
     "name": "#%%\n"
    }
   }
  },
  {
   "cell_type": "code",
   "execution_count": 16,
   "outputs": [],
   "source": [
    "giant_comp = nx.read_graphml(\"Giant Component.graphml\")"
   ],
   "metadata": {
    "collapsed": false,
    "pycharm": {
     "name": "#%%\n"
    }
   }
  },
  {
   "cell_type": "code",
   "execution_count": 17,
   "outputs": [],
   "source": [
    "path_len_dict = nx.shortest_path_length(giant_comp, source=\"fl:m_ln:ohashi-5\")"
   ],
   "metadata": {
    "collapsed": false,
    "pycharm": {
     "name": "#%%\n"
    }
   }
  },
  {
   "cell_type": "code",
   "execution_count": 18,
   "outputs": [],
   "source": [
    "nx.set_node_attributes(giant_comp, path_len_dict, name=\"length_ohashi\")"
   ],
   "metadata": {
    "collapsed": false,
    "pycharm": {
     "name": "#%%\n"
    }
   }
  },
  {
   "cell_type": "code",
   "execution_count": 9,
   "outputs": [],
   "source": [
    "radi_mean = pickle.load(open(\"radi_mean All.p\", \"rb\"))"
   ],
   "metadata": {
    "collapsed": false,
    "pycharm": {
     "name": "#%%\n"
    }
   }
  },
  {
   "cell_type": "code",
   "execution_count": 12,
   "outputs": [
    {
     "data": {
      "text/plain": "{1: 0.4701549119946393,\n 2: 0.37525677796253915,\n 3: 0.3268814551672424,\n 4: 0.301987447769479,\n 5: 0.2800531232942496,\n 6: 0.2679011676327855,\n 7: 0.26394330894275086,\n 8: 0.25770289252889267,\n 9: 0.2543195622166063,\n 10: 0.24456582633131158,\n 11: 0.2452516288735968,\n 12: 0.2436352090373776,\n 13: 0.23986383603588368,\n 14: 0.2390922711527267,\n 15: 0.24092109726900998,\n 16: 0.244905951850454,\n 17: 0.2444340556293132,\n 18: 0.24527194028237884,\n 19: 0.24499415073129988,\n 20: 0.2470607566008967,\n 21: 0.251232780882982,\n 22: 0.2528229114680879,\n 23: 0.2547804160607968,\n 24: 0.25478540233998553,\n 25: 0.260739800473655,\n 26: 0.2627297816271595,\n 27: 0.2674318792545648,\n 28: 0.26437900885334714,\n 29: 0.2634253551756327,\n 30: 0.2627468765567271,\n 31: 0.2596010281268371,\n 32: 0.25361563413642685,\n 33: 0.24934445004488032,\n 34: 0.2552521272814804}"
     },
     "execution_count": 12,
     "metadata": {},
     "output_type": "execute_result"
    }
   ],
   "source": [
    "radi_mean_dict = dict(zip(np.arange(1, 35), radi_mean))\n",
    "radi_mean_dict"
   ],
   "metadata": {
    "collapsed": false,
    "pycharm": {
     "name": "#%%\n"
    }
   }
  },
  {
   "cell_type": "code",
   "execution_count": 21,
   "outputs": [],
   "source": [
    "exp_prox_dict = {x: radi_mean_dict[path_len_dict[x]] for x in path_len_dict if path_len_dict[x] in np.arange(1, 35)}"
   ],
   "metadata": {
    "collapsed": false,
    "pycharm": {
     "name": "#%%\n"
    }
   }
  },
  {
   "cell_type": "code",
   "execution_count": 20,
   "outputs": [],
   "source": [
    "nx.set_node_attributes(giant_comp, exp_prox_dict, name=\"exp_prox_to_ohashi\")\n",
    "nx.write_graphml(giant_comp, \"Giant Component.graphml\")"
   ],
   "metadata": {
    "collapsed": false,
    "pycharm": {
     "name": "#%%\n"
    }
   }
  },
  {
   "cell_type": "code",
   "execution_count": null,
   "outputs": [],
   "source": [
    "\"\"\"\n",
    "Simulate distribtuion with random using the probabilities calculated conditional on path length\n",
    "\"\"\""
   ],
   "metadata": {
    "collapsed": false,
    "pycharm": {
     "name": "#%%\n"
    }
   }
  },
  {
   "cell_type": "code",
   "execution_count": 6,
   "outputs": [],
   "source": [
    "\n",
    "conditional = pickle.load(open(\"conditional All.p\", \"rb\"))\n",
    "radi_mean = np.array(pickle.load(open(\"radi_mean All.p\", \"rb\")))\n",
    "g_colab = nx.read_graphml(\"g_colab 03 18.graphml\")"
   ],
   "metadata": {
    "collapsed": false,
    "pycharm": {
     "name": "#%%\n"
    }
   }
  },
  {
   "cell_type": "code",
   "execution_count": 7,
   "outputs": [],
   "source": [
    "conditional = conditional * 10"
   ],
   "metadata": {
    "collapsed": false,
    "pycharm": {
     "name": "#%%\n"
    }
   }
  },
  {
   "cell_type": "code",
   "execution_count": 30,
   "outputs": [],
   "source": [
    "graph = nx.read_gml(\"Technology Network from PS.gml\")\n",
    "adj_tech = nx.to_numpy_array(graph, nodelist=graph.nodes)\n",
    "np.fill_diagonal(adj_tech, 1)\n",
    "section_counts = pd.read_csv(\"Section Counts 2009.csv\")\n",
    "section_counts = section_counts[[c for c in graph.nodes()]]"
   ],
   "metadata": {
    "collapsed": false,
    "pycharm": {
     "name": "#%%\n"
    }
   }
  },
  {
   "cell_type": "code",
   "execution_count": 35,
   "outputs": [
    {
     "data": {
      "text/plain": "<Figure size 640x480 with 1 Axes>",
      "image/png": "[encoded data removed]"
     },
     "metadata": {},
     "output_type": "display_data"
    }
   ],
   "source": [
    "radi = list(range(1, 35))\n",
    "teams = []\n",
    "choices = [0, 1]\n",
    "team_distances = []\n",
    "for inv1 in list(g_colab.nodes):\n",
    "\n",
    "    paths = nx.single_source_shortest_path_length(g_colab, inv1)\n",
    "    team = []\n",
    "    team.append(inv1)\n",
    "\n",
    "    for radius in radi:\n",
    "\n",
    "        radius_paths = [k for k,v in paths.items() if v == radius]\n",
    "\n",
    "        for inv2  in radius_paths:\n",
    "\n",
    "            choice = np.random.choice(choices, p=[(1 - conditional[radius-1]), conditional[radius-1]])\n",
    "\n",
    "            if choice == 1:\n",
    "\n",
    "                team.append(inv2)\n",
    "\n",
    "    if len(team) > 1:\n",
    "\n",
    "        teams.append(team)\n",
    "\n",
    "for team in teams:\n",
    "\n",
    "    distances = []\n",
    "\n",
    "    for (inv1, inv2) in combinations(team, 2):\n",
    "\n",
    "        inv1_skills = np.array([section_counts.loc[inv1]])\n",
    "        inv2_skills = np.array([section_counts.loc[inv2]])\n",
    "\n",
    "        inv1_skills[inv1_skills > 0 ] = 1\n",
    "        inv2_skills[inv2_skills > 0 ] = 1\n",
    "\n",
    "        average = MeasureDist(inv1_skills, inv2_skills, adj_tech)\n",
    "        distances.append(average)\n",
    "\n",
    "    patent_distance = np.nanmean(distances)\n",
    "    team_distances.append(patent_distance)"
   ],
   "metadata": {
    "collapsed": false,
    "pycharm": {
     "name": "#%%\n"
    }
   }
  },
  {
   "cell_type": "code",
   "execution_count": 36,
   "outputs": [
    {
     "data": {
      "text/plain": "<Figure size 640x480 with 1 Axes>",
      "image/png": "[encoded data removed]"
     },
     "metadata": {},
     "output_type": "display_data"
    }
   ],
   "source": [
    "sns.histplot(team_distances, bins=30)\n",
    "plt.show()"
   ],
   "metadata": {
    "collapsed": false,
    "pycharm": {
     "name": "#%%\n"
    }
   }
  },
  {
   "cell_type": "code",
   "execution_count": 37,
   "outputs": [
    {
     "data": {
      "text/plain": "2.33753698745949"
     },
     "execution_count": 37,
     "metadata": {},
     "output_type": "execute_result"
    }
   ],
   "source": [
    "np.mean([len(t) for t in teams])"
   ],
   "metadata": {
    "collapsed": false,
    "pycharm": {
     "name": "#%%\n"
    }
   }
  },
  {
   "cell_type": "code",
   "execution_count": 57,
   "outputs": [
    {
     "name": "stderr",
     "output_type": "stream",
     "text": [
      "C:\\Users\\Joe's PC\\AppData\\Roaming\\Python\\Python38\\site-packages\\seaborn\\distributions.py:509: MatplotlibDeprecationWarning: Using a string of single character colors as a color sequence is deprecated since 3.2 and will be removed two minor releases later. Use an explicit list instead.\n",
      "  scout = self.ax.fill_between([], [], color=color, **plot_kws)\n",
      "C:\\Users\\Joe's PC\\AppData\\Roaming\\Python\\Python38\\site-packages\\seaborn\\distributions.py:555: MatplotlibDeprecationWarning: Using a string of single character colors as a color sequence is deprecated since 3.2 and will be removed two minor releases later. Use an explicit list instead.\n",
      "  artists = plot_func(\n",
      "C:\\Users\\Joe's PC\\AppData\\Roaming\\Python\\Python38\\site-packages\\seaborn\\distributions.py:509: MatplotlibDeprecationWarning: Using a string of single character colors as a color sequence is deprecated since 3.2 and will be removed two minor releases later. Use an explicit list instead.\n",
      "  scout = self.ax.fill_between([], [], color=color, **plot_kws)\n",
      "C:\\Users\\Joe's PC\\AppData\\Roaming\\Python\\Python38\\site-packages\\seaborn\\distributions.py:555: MatplotlibDeprecationWarning: Using a string of single character colors as a color sequence is deprecated since 3.2 and will be removed two minor releases later. Use an explicit list instead.\n",
      "  artists = plot_func(\n",
      "C:\\Users\\Joe's PC\\AppData\\Roaming\\Python\\Python38\\site-packages\\seaborn\\distributions.py:509: MatplotlibDeprecationWarning: Using a string of single character colors as a color sequence is deprecated since 3.2 and will be removed two minor releases later. Use an explicit list instead.\n",
      "  scout = self.ax.fill_between([], [], color=color, **plot_kws)\n",
      "C:\\Users\\Joe's PC\\AppData\\Roaming\\Python\\Python38\\site-packages\\seaborn\\distributions.py:555: MatplotlibDeprecationWarning: Using a string of single character colors as a color sequence is deprecated since 3.2 and will be removed two minor releases later. Use an explicit list instead.\n",
      "  artists = plot_func(\n"
     ]
    },
    {
     "data": {
      "text/plain": "<Figure size 800x500 with 1 Axes>",
      "image/png": "[encoded data removed]"
     },
     "metadata": {},
     "output_type": "display_data"
    }
   ],
   "source": [
    "random_distances = pickle.load(open(\"random distances All.p\", \"rb\"))\n",
    "\n",
    "fig, ax = plt.subplots(facecolor=\"w\", figsize=(8,5))\n",
    "plt.suptitle(\"Compare: Random, Observed and Simulated \\n Collaboration Proximities\", fontsize=16)\n",
    "sns.histplot(random_distances, color=\"firebrick\", stat=\"probability\", ax=ax, bins=30, alpha=0.2, edgecolor=\"\", label=\"Random\")\n",
    "sns.histplot(observed_distances[\"inventor_distance\"], color=\"darkslategray\", stat=\"probability\",\n",
    "             ax=ax, bins=30, alpha=0.2, edgecolor=\"\", label=\"Observed\")\n",
    "sns.histplot(team_distances, bins=30,  alpha=0.2,edgecolor=\"\",  color=\"lime\", stat=\"probability\",label=\"Simulated\", ax=ax)\n",
    "plt.xlabel(\"Proximity: p(i, j)\", fontsize=14)\n",
    "plt.ylabel(\"Probability\", fontsize=14)\n",
    "plt.legend(fontsize=\"large\")\n",
    "#fig.savefig(\"Random vs Observed All.png\", dpi=300)\n",
    "plt.show()\n",
    "\n",
    "fig.savefig(\"Random and Simlauted proximities.png\", dpi=300)\n",
    "\n",
    "\n",
    "\n"
   ],
   "metadata": {
    "collapsed": false,
    "pycharm": {
     "name": "#%%\n"
    }
   }
  }
 ],
 "metadata": {
  "kernelspec": {
   "display_name": "Python 3",
   "language": "python",
   "name": "python3"
  },
  "language_info": {
   "codemirror_mode": {
    "name": "ipython",
    "version": 2
   },
   "file_extension": ".py",
   "mimetype": "text/x-python",
   "name": "python",
   "nbconvert_exporter": "python",
   "pygments_lexer": "ipython2",
   "version": "2.7.6"
  }
 },
 "nbformat": 4,
 "nbformat_minor": 0
}